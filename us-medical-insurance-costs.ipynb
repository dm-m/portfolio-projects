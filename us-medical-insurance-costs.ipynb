{
 "cells": [
  {
   "cell_type": "markdown",
   "metadata": {},
   "source": [
    "# U.S. Medical Insurance Costs"
   ]
  },
  {
   "cell_type": "markdown",
   "metadata": {},
   "source": [
    "### Project Goals for analysis:\n",
    "\n",
    "1. Find out the average age of the patients in the dataset.\n",
    "2. Analyze where a majority of the individuals are from.\n",
    "3. Look at the different costs between smokers vs. non-smokers.\n",
    "4. Figure out what the average age is for someone who has at least one child in this dataset."
   ]
  },
  {
   "cell_type": "markdown",
   "metadata": {},
   "source": [
    "**insurance.csv** contains the following columns:\n",
    "\n",
    "* Patient Age\n",
    "* Patient Sex\n",
    "* Patient BMI\n",
    "* Patient Number of Children\n",
    "* Patient Smoking Status\n",
    "* Patient U.S Geopraphical Region\n",
    "* Patient Yearly Medical Insurance Cost\n",
    "There are no signs of missing data. To store this information, seven empty lists will be created hold each individual column of data from **insurance.csv**."
   ]
  },
  {
   "cell_type": "code",
   "execution_count": 1,
   "metadata": {},
   "outputs": [],
   "source": [
    "# raw data provided in insurance.csv file\n",
    "\n",
    "import csv\n",
    "\n",
    "# creating separate lists for each column \n",
    "ages = []\n",
    "sexes = []\n",
    "bmis = []\n",
    "children = []\n",
    "smokers = []\n",
    "regions = []\n",
    "actual_charges = []\n",
    "\n",
    "with open('insurance.csv', newline='') as insurance_csv:\n",
    "    patient_reader = csv.DictReader(insurance_csv)\n",
    "    for row in patient_reader:\n",
    "        ages.append(row['age'])\n",
    "        sexes.append(row['sex'])\n",
    "        bmis.append(row['bmi'])\n",
    "        children.append(row['children'])\n",
    "        smokers.append(row['smoker'])\n",
    "        regions.append(row['region'])\n",
    "        actual_charges.append(row['charges'])"
   ]
  },
  {
   "cell_type": "code",
   "execution_count": 2,
   "metadata": {},
   "outputs": [
    {
     "name": "stdout",
     "output_type": "stream",
     "text": [
      "There are 1338 patients in the dataset.\n",
      "The average age of the patient in the given dataset is 39.21 years.\n"
     ]
    }
   ],
   "source": [
    "# finding out the number of patients in the dataset\n",
    "num_records = 0\n",
    "for i in ages:\n",
    "    num_records += 1\n",
    "print(\"There are {} patients in the dataset.\".format(num_records))\n",
    "\n",
    "# finding out the average age of patients      \n",
    "def avg_age(ages):\n",
    "    total_age = 0\n",
    "    for age in ages:\n",
    "        total_age += int(age)\n",
    "    average_age =  round(total_age / len(ages), 2)\n",
    "    return average_age\n",
    "\n",
    "average_age = avg_age(ages)\n",
    "print(\"The average age of the patient in the given dataset is \" + str(average_age) + \" years.\")"
   ]
  },
  {
   "cell_type": "code",
   "execution_count": 3,
   "metadata": {},
   "outputs": [
    {
     "name": "stdout",
     "output_type": "stream",
     "text": [
      "Patients are located evenly over 4 areas.\n",
      "\n",
      "325 patients live in the southwest region.\n",
      "364 patients live in the southeast region.\n",
      "325 patients live in the northwest region.\n",
      "324 patients live in the northeast region.\n",
      "\n",
      "The majority of patients live in the southeast region.\n",
      "\n",
      "Southwest patients share is 24.3%\n",
      "Southeast patients share is 27.2%\n",
      "Northwest patients share is 24.3%\n",
      "Northeast patients share is 24.2%\n",
      "\n"
     ]
    }
   ],
   "source": [
    "# analyzing where the majority of patients live\n",
    "sw_count = regions.count('southwest')\n",
    "se_count = regions.count('southeast')\n",
    "nw_count = regions.count('northwest')\n",
    "ne_count = regions.count('northeast')\n",
    "print(\"Patients are located evenly over 4 areas.\\n\" + \"\\n\" +\n",
    "      str(sw_count) + \" patients live in the southwest region.\\n\" + \n",
    "      str(se_count) + \" patients live in the southeast region.\\n\" + \n",
    "      str(nw_count) + \" patients live in the northwest region.\\n\" +\n",
    "      str(ne_count) + \" patients live in the northeast region.\\n\" + \n",
    "      \"\\nThe majority of patients live in the southeast region.\")\n",
    "    \n",
    "\n",
    "# calculating each region's share\n",
    "def region_share(sw, se, nw, ne):\n",
    "    sw_share = round(sw * 100 / len(regions), 1)\n",
    "    se_share = round(se * 100 / len(regions), 1)\n",
    "    nw_share = round(nw * 100 / len(regions), 1)\n",
    "    ne_share = round(ne * 100 / len(regions), 1)\n",
    "    print(\"\\nSouthwest patients share is \" + str(sw_share) + \"%\\n\" + \n",
    "        \"Southeast patients share is \" + str(se_share) + \"%\\n\" +\n",
    "        \"Northwest patients share is \" + str(nw_share) + \"%\\n\" +\n",
    "        \"Northeast patients share is \" + str(ne_share) + \"%\\n\")\n",
    "\n",
    "region_share(sw_count, se_count, nw_count, ne_count)"
   ]
  },
  {
   "cell_type": "code",
   "execution_count": 4,
   "metadata": {},
   "outputs": [
    {
     "name": "stdout",
     "output_type": "stream",
     "text": [
      "Total actual charge is: $17755824.99\n",
      "Average actual charge is: $13270.42\n"
     ]
    }
   ],
   "source": [
    "# calculating total/average charge\n",
    "total_charge = 0\n",
    "for charge in actual_charges:\n",
    "    total_charge += float(charge)\n",
    "    \n",
    "print(\"Total actual charge is: $\" + str(round(total_charge, 2)))\n",
    "\n",
    "average_charge = total_charge / len(actual_charges)\n",
    "print(\"Average actual charge is: $\" + str(round(average_charge, 2)))"
   ]
  },
  {
   "cell_type": "code",
   "execution_count": 5,
   "metadata": {},
   "outputs": [
    {
     "name": "stdout",
     "output_type": "stream",
     "text": [
      "Number of smokers and non-smokers in the presented dataset is (274, 1064) respectively.\n"
     ]
    }
   ],
   "source": [
    "# looking at different charges in smoker vs non-smoker\n",
    "\n",
    "# counting smokers/non-smokers\n",
    "def counting_smokers(smokers):\n",
    "    smokers_count = 0\n",
    "    non_smokers_count = 0\n",
    "    for smoker in smokers:\n",
    "        if smoker == \"yes\":\n",
    "            smokers_count += 1\n",
    "        else:\n",
    "            non_smokers_count += 1\n",
    "    return smokers_count, non_smokers_count\n",
    "\n",
    "show_me_smokers = counting_smokers(smokers)\n",
    "\n",
    "print(\"Number of smokers and non-smokers in the presented dataset is \" + str(show_me_smokers) + \" respectively.\")"
   ]
  },
  {
   "cell_type": "code",
   "execution_count": 6,
   "metadata": {},
   "outputs": [
    {
     "name": "stdout",
     "output_type": "stream",
     "text": [
      "\n",
      "Smoker charges are: $8781763.52\n",
      "             \n",
      "Non-smoker charges are: $8974061.47\n",
      "             \n",
      "Percent of smokers in the dataset: 20.5%\n",
      "             \n",
      "Percent of non-smokers in the dataset: 79.5%\n",
      "             \n",
      "Despite the fact that there are only 20.5% of smokers from the total amount of patients,             \n",
      "they account for almost half of all insurance costs in the given dataset, namely, 49.5%.\n",
      "\n",
      "Smoker pays $32050.23 of insurance costs in average, while non-smoker pays $8434.27 in average.\n"
     ]
    }
   ],
   "source": [
    "# creating a zipped list of smokers and their charges\n",
    "zipped_smokers = list(zip(smokers, actual_charges))\n",
    "\n",
    "# calculating smokers charges and share in total charges\n",
    "def smokers_charges(zipped_smokers, smokers_count = 274, non_smokers_count = 1064):\n",
    "    smoker_charges = 0\n",
    "    non_smoker_charges = 0\n",
    "    for item in zipped_smokers:\n",
    "        if item[0] == 'yes':\n",
    "            smoker_charges += float(item[1])\n",
    "        else:\n",
    "            non_smoker_charges += float(item[1])\n",
    "    smokers_percent_in_charges = round(smoker_charges * 100 / total_charge, 1)\n",
    "    smokers_share = smokers_count * 100 / len(smokers)\n",
    "    non_smokers_share = non_smokers_count * 100 / len(smokers)\n",
    "    print(\"\\nSmoker charges are: ${}\\n \\\n",
    "            \\nNon-smoker charges are: ${}\\n \\\n",
    "            \\nPercent of smokers in the dataset: {}%\\n \\\n",
    "            \\nPercent of non-smokers in the dataset: {}%\\n \\\n",
    "            \\nDespite the fact that there are only {}% of smokers from the total amount of patients, \\\n",
    "            \\nthey account for almost half of all insurance costs in the given dataset, namely, {}%.\\n\".format(round(smoker_charges, 2),\n",
    "                                                                                                            round(non_smoker_charges, 2),\n",
    "                                                                                                            round(smokers_share, 1),\n",
    "                                                                                                            round(non_smokers_share, 1),\n",
    "                                                                                                            round(smokers_share, 1),\n",
    "                                                                                                            round(smokers_percent_in_charges, 1)))\n",
    "\n",
    "smokers_charges(zipped_smokers)\n",
    "\n",
    "# calculating average cost for smokers/non-smokers\n",
    "def calculate_average_cost_smoker(zipped_smokers):\n",
    "    smoker_charges = 0\n",
    "    non_smoker_charges = 0\n",
    "    smoker_list = []\n",
    "    non_smoker_list = []\n",
    "    for item in zipped_smokers:\n",
    "        if item[0] == 'yes':\n",
    "            smoker_charges += float(item[1])\n",
    "            smoker_list.append(item[0])\n",
    "        else:\n",
    "            non_smoker_charges += float(item[1])\n",
    "            non_smoker_list.append(item[0])\n",
    "    average_cost_smoker = smoker_charges / len(smoker_list)\n",
    "    average_cost_non_smoker = non_smoker_charges / len(non_smoker_list)\n",
    "    print(\"Smoker pays ${} of insurance costs in average, while non-smoker pays ${} in average.\".format(round(average_cost_smoker, 2),\n",
    "                                                                                   round(average_cost_non_smoker, 2)))\n",
    "    \n",
    "calculate_average_cost_smoker(zipped_smokers)"
   ]
  },
  {
   "cell_type": "code",
   "execution_count": 7,
   "metadata": {},
   "outputs": [
    {
     "name": "stdout",
     "output_type": "stream",
     "text": [
      "The average age for a patient who has at least one child in this dataset is 39.78 years.\n"
     ]
    }
   ],
   "source": [
    "# figuring out what the average age is for someone who has at least one child in this dataset.\n",
    "\n",
    "# creating a common list for ages and children\n",
    "zipped_parents = list(zip(ages, children))\n",
    "\n",
    "# finding out the average age for patient with at least one child\n",
    "def calculate_avg_age_of_parents(zipped_parents):\n",
    "    parents_with_children = []\n",
    "    for parent in zipped_parents:\n",
    "        if int(parent[1]) > 0:\n",
    "            parents_with_children.append(parent[0])\n",
    "        else:\n",
    "            pass\n",
    "    length = len(parents_with_children)\n",
    "    total_age = 0\n",
    "    for age in parents_with_children:\n",
    "        total_age += int(age)\n",
    "    average_age = round(total_age / length, 2)\n",
    "    print(\"The average age for a patient who has at least one child in this dataset is \" + str(average_age) + \" years.\")\n",
    "    \n",
    "calculate_avg_age_of_parents(zipped_parents)"
   ]
  },
  {
   "cell_type": "code",
   "execution_count": 8,
   "metadata": {},
   "outputs": [],
   "source": [
    "# creating a dictionary with a number as key and all other data as value for simplicity\n",
    "medical_records = dict()\n",
    "for i in range(len(ages)):\n",
    "    medical_records[i] = {\"Age\": ages[i],\n",
    "                          \"Sex\": sexes[i],\n",
    "                          \"BMI\": bmis[i],\n",
    "                          \"Children\": children[i],\n",
    "                          \"Smoker\": smokers[i],\n",
    "                          \"Region\": regions[i],\n",
    "                          \"Charges\": actual_charges[i]}\n",
    "\n",
    "# creating a dictionary with number of patients by regions\n",
    "number_of_patients_by_regions = {}\n",
    "number_of_patients_by_regions.update({\"Southwest\": 325, \"Southeast\": 364, \"Northwest\": 325, \"Northeast\": 324})\n",
    "    \n",
    "# creating a list with data analysis results\n",
    "analysis_results = []\n",
    "analysis_results.append([\"Total number of records\", 1338])\n",
    "analysis_results.append([\"Average age of patients\", 39.21])\n",
    "analysis_results.append(number_of_patients_by_regions)\n",
    "analysis_results.append([\"Total charge, $\", round(total_charge, 2)])\n",
    "analysis_results.append([\"Average charge, $\", round(average_charge, 2)])\n",
    "analysis_results.append([\"Smokers\", 274])\n",
    "analysis_results.append([\"Non-smokers\", 1064])\n",
    "analysis_results.append([\"Percent of smokers, %\", 20.5])\n",
    "analysis_results.append([\"Smokers share in total charges, %\", 49.5])\n",
    "analysis_results.append([\"Smoker's average insurance payment, $\", 32050.23])\n",
    "analysis_results.append([\"Non-smoker's average insurance payment, $\", 8434.27])\n",
    "analysis_results.append([\"Average age of patient who is a parent\", 39.78])"
   ]
  },
  {
   "cell_type": "code",
   "execution_count": 9,
   "metadata": {},
   "outputs": [
    {
     "name": "stdout",
     "output_type": "stream",
     "text": [
      "[['Total number of records', 1338], ['Average age of patients', 39.21], {'Southwest': 325, 'Southeast': 364, 'Northwest': 325, 'Northeast': 324}, ['Total charge, $', 17755824.99], ['Average charge, $', 13270.42], ['Smokers', 274], ['Non-smokers', 1064], ['Percent of smokers, %', 20.5], ['Smokers share in total charges, %', 49.5], [\"Smoker's average insurance payment, $\", 32050.23], [\"Non-smoker's average insurance payment, $\", 8434.27], ['Average age of patient who is a parent', 39.78]]\n"
     ]
    }
   ],
   "source": [
    "print(analysis_results)"
   ]
  },
  {
   "cell_type": "code",
   "execution_count": null,
   "metadata": {},
   "outputs": [],
   "source": []
  }
 ],
 "metadata": {
  "kernelspec": {
   "display_name": "Python 3 (ipykernel)",
   "language": "python",
   "name": "python3"
  },
  "language_info": {
   "codemirror_mode": {
    "name": "ipython",
    "version": 3
   },
   "file_extension": ".py",
   "mimetype": "text/x-python",
   "name": "python",
   "nbconvert_exporter": "python",
   "pygments_lexer": "ipython3",
   "version": "3.9.12"
  }
 },
 "nbformat": 4,
 "nbformat_minor": 4
}
